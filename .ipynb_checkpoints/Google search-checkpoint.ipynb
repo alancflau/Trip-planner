{
 "cells": [
  {
   "cell_type": "code",
   "execution_count": null,
   "metadata": {},
   "outputs": [],
   "source": []
  },
  {
   "cell_type": "code",
   "execution_count": 281,
   "metadata": {
    "scrolled": false
   },
   "outputs": [
    {
     "name": "stdout",
     "output_type": "stream",
     "text": [
      "                  Attractions                              Descriptions  \\\n",
      "0                    CN Tower  Iconic tower with a revolving restaurant   \n",
      "1                   Casa Loma      Stately castle with seasonal gardens   \n",
      "2        Royal Ontario Museum   Huge range of culture & nature exhibits   \n",
      "3         Distillery District     Dining & theatres in 1800s distillery   \n",
      "4             Toronto Islands   Offshore spot with beaches & recreation   \n",
      "..                        ...                                       ...   \n",
      "94              Woodbine Park         Green space with a swimming beach   \n",
      "95      Union Pearson Express                                     Route   \n",
      "96     Boyd Conservation Park      Weekend-only park with scenic trails   \n",
      "97  Playdium Amusement Centre   Large entertainment centre for families   \n",
      "98           Reptilia Vaughan        Reptile & amphibian zoo with shows   \n",
      "\n",
      "   Ratings    Reviews  \n",
      "0      4.6   (42,844)  \n",
      "1      4.5   (18,048)  \n",
      "2      4.6   (23,893)  \n",
      "3      N/A        N/A  \n",
      "4      4.7      (705)  \n",
      "..     ...        ...  \n",
      "94     4.4    (2,348)  \n",
      "95     N/A        N/A  \n",
      "96     4.5    (1,091)  \n",
      "97     N/A        N/A  \n",
      "98     4.4    (1,102)  \n",
      "\n",
      "[99 rows x 4 columns]\n"
     ]
    }
   ],
   "source": [
    "from selenium import webdriver\n",
    "from bs4 import BeautifulSoup\n",
    "import pandas as pd\n",
    "\n",
    "driver = webdriver.Chrome()\n",
    "\n",
    "driver.get(\"https://www.google.com/travel/things-to-do/see-all?g2lb=2502548%2C4208993%2C4254308%2C4258168%2C4260007%2C4270442%2C4271060%2C4274032%2C4291318%2C4305595%2C4306835%2C4308216%2C4314846%2C4317915%2C4328159%2C4329288%2C4330113%2C4338438%2C4270859%2C4284970%2C4291517%2C4292955%2C4316256&hl=en&gl=ca&un=1&otf=1&dest_mid=%2Fm%2F0h7h6&dest_state_type=sattd&dest_src=ts&sa=X\")\n",
    "content = driver.page_source\n",
    "soup = BeautifulSoup(content, 'html5lib')\n",
    "#print(soup.prettify())\n",
    "driver.close()\n",
    "\n",
    "names = []\n",
    "descriptions = []\n",
    "ratings = []\n",
    "reviews = []\n",
    "\n",
    "for div in soup.findAll('div', attrs = {'class': 'GwjAi'}):\n",
    "    try:\n",
    "        name = div.find('div', attrs = {'class': 'skFvHc YmWhbc'}).get_text()\n",
    "        description = div.find('div', attrs = {'class': 'nFoFM'}).get_text()\n",
    "        rating = div.find('span', attrs = {'class':'KFi5wf'})\n",
    "        review = div.find('span', attrs = {'class':'jdzyld'})\n",
    "        \n",
    "    except:\n",
    "        break\n",
    "        \n",
    "    names.append(name)\n",
    "    descriptions.append(description)\n",
    "    ratings.append(rating.text if rating else \"N/A\")\n",
    "    reviews.append(review.text if review else \"N/A\")\n",
    "    \n",
    "    \n",
    "df = pd.DataFrame({'Attractions':names,'Descriptions':descriptions, 'Ratings': ratings, 'Reviews': reviews})\n",
    "print(df)"
   ]
  }
 ],
 "metadata": {
  "kernelspec": {
   "display_name": "Python 3",
   "language": "python",
   "name": "python3"
  },
  "language_info": {
   "codemirror_mode": {
    "name": "ipython",
    "version": 3
   },
   "file_extension": ".py",
   "mimetype": "text/x-python",
   "name": "python",
   "nbconvert_exporter": "python",
   "pygments_lexer": "ipython3",
   "version": "3.7.4"
  }
 },
 "nbformat": 4,
 "nbformat_minor": 2
}
