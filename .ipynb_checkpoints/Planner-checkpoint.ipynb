{
 "cells": [
  {
   "cell_type": "code",
   "execution_count": 1,
   "metadata": {},
   "outputs": [],
   "source": [
    "import pandas as pd\n",
    "import driver\n",
    "import googlemaps\n",
    "\n",
    "import matplotlib\n",
    "import matplotlib.pyplot as plt\n",
    "import numpy as np\n",
    "\n",
    "import config"
   ]
  },
  {
   "cell_type": "markdown",
   "metadata": {},
   "source": [
    "Choose our destination and grab information."
   ]
  },
  {
   "cell_type": "code",
   "execution_count": 2,
   "metadata": {},
   "outputs": [],
   "source": [
    "df = driver.google_search('Cancun')"
   ]
  },
  {
   "cell_type": "code",
   "execution_count": 3,
   "metadata": {},
   "outputs": [
    {
     "data": {
      "text/html": [
       "<div>\n",
       "<style scoped>\n",
       "    .dataframe tbody tr th:only-of-type {\n",
       "        vertical-align: middle;\n",
       "    }\n",
       "\n",
       "    .dataframe tbody tr th {\n",
       "        vertical-align: top;\n",
       "    }\n",
       "\n",
       "    .dataframe thead th {\n",
       "        text-align: right;\n",
       "    }\n",
       "</style>\n",
       "<table border=\"1\" class=\"dataframe\">\n",
       "  <thead>\n",
       "    <tr style=\"text-align: right;\">\n",
       "      <th></th>\n",
       "      <th>Attractions</th>\n",
       "      <th>Descriptions</th>\n",
       "      <th>City</th>\n",
       "      <th>Ratings</th>\n",
       "      <th>Reviews</th>\n",
       "      <th>Genres</th>\n",
       "    </tr>\n",
       "  </thead>\n",
       "  <tbody>\n",
       "    <tr>\n",
       "      <td>0</td>\n",
       "      <td>Isla Mujeres</td>\n",
       "      <td>Playa Norte beach &amp; sea turtle sanctuary</td>\n",
       "      <td>Cancun</td>\n",
       "      <td>4.7</td>\n",
       "      <td>(2,122)</td>\n",
       "      <td>Outdoors</td>\n",
       "    </tr>\n",
       "    <tr>\n",
       "      <td>1</td>\n",
       "      <td>Xcaret Park</td>\n",
       "      <td>Eco-archaeological park with attractions</td>\n",
       "      <td>Cancun</td>\n",
       "      <td>4.8</td>\n",
       "      <td>(60,994)</td>\n",
       "      <td>Outdoors</td>\n",
       "    </tr>\n",
       "    <tr>\n",
       "      <td>2</td>\n",
       "      <td>Xel-Há Park</td>\n",
       "      <td>Natural aquarium with many activities</td>\n",
       "      <td>Cancun</td>\n",
       "      <td>4.8</td>\n",
       "      <td>(24,714)</td>\n",
       "      <td>Outdoors</td>\n",
       "    </tr>\n",
       "    <tr>\n",
       "      <td>3</td>\n",
       "      <td>Cancún Underwater Museum</td>\n",
       "      <td>Contemporary underwater sculpture museum</td>\n",
       "      <td>Cancun</td>\n",
       "      <td>4.5</td>\n",
       "      <td>(383)</td>\n",
       "      <td>Outdoors</td>\n",
       "    </tr>\n",
       "    <tr>\n",
       "      <td>4</td>\n",
       "      <td>Dos Ojos Cenote</td>\n",
       "      <td>Natural caves &amp; scenic swimming holes</td>\n",
       "      <td>Cancun</td>\n",
       "      <td>4.7</td>\n",
       "      <td>(2,357)</td>\n",
       "      <td>Outdoors</td>\n",
       "    </tr>\n",
       "    <tr>\n",
       "      <td>...</td>\n",
       "      <td>...</td>\n",
       "      <td>...</td>\n",
       "      <td>...</td>\n",
       "      <td>...</td>\n",
       "      <td>...</td>\n",
       "      <td>...</td>\n",
       "    </tr>\n",
       "    <tr>\n",
       "      <td>143</td>\n",
       "      <td>Cancun Country Club</td>\n",
       "      <td>Golf and country club</td>\n",
       "      <td>Cancun</td>\n",
       "      <td>4.5</td>\n",
       "      <td>(293)</td>\n",
       "      <td>Kid-friendly</td>\n",
       "    </tr>\n",
       "    <tr>\n",
       "      <td>144</td>\n",
       "      <td>Amigos de Isla Contoy</td>\n",
       "      <td>Island</td>\n",
       "      <td>Cancun</td>\n",
       "      <td>5.0</td>\n",
       "      <td>(1)</td>\n",
       "      <td>Kid-friendly</td>\n",
       "    </tr>\n",
       "    <tr>\n",
       "      <td>145</td>\n",
       "      <td>Holy Family Parish Cancun</td>\n",
       "      <td>Catholic church</td>\n",
       "      <td>Cancun</td>\n",
       "      <td>4.7</td>\n",
       "      <td>(575)</td>\n",
       "      <td>Kid-friendly</td>\n",
       "    </tr>\n",
       "    <tr>\n",
       "      <td>146</td>\n",
       "      <td>Marlín Beach</td>\n",
       "      <td>Beach</td>\n",
       "      <td>Cancun</td>\n",
       "      <td>4.6</td>\n",
       "      <td>(89)</td>\n",
       "      <td>Kid-friendly</td>\n",
       "    </tr>\n",
       "    <tr>\n",
       "      <td>147</td>\n",
       "      <td>Parque de La Región 235</td>\n",
       "      <td>Park</td>\n",
       "      <td>Cancun</td>\n",
       "      <td>3.9</td>\n",
       "      <td>(279)</td>\n",
       "      <td>Kid-friendly</td>\n",
       "    </tr>\n",
       "  </tbody>\n",
       "</table>\n",
       "<p>148 rows × 6 columns</p>\n",
       "</div>"
      ],
      "text/plain": [
       "                   Attractions                              Descriptions  \\\n",
       "0                 Isla Mujeres  Playa Norte beach & sea turtle sanctuary   \n",
       "1                  Xcaret Park  Eco-archaeological park with attractions   \n",
       "2                  Xel-Há Park     Natural aquarium with many activities   \n",
       "3     Cancún Underwater Museum  Contemporary underwater sculpture museum   \n",
       "4              Dos Ojos Cenote     Natural caves & scenic swimming holes   \n",
       "..                         ...                                       ...   \n",
       "143        Cancun Country Club                     Golf and country club   \n",
       "144      Amigos de Isla Contoy                                    Island   \n",
       "145  Holy Family Parish Cancun                           Catholic church   \n",
       "146               Marlín Beach                                     Beach   \n",
       "147    Parque de La Región 235                                      Park   \n",
       "\n",
       "       City Ratings    Reviews        Genres  \n",
       "0    Cancun     4.7    (2,122)      Outdoors  \n",
       "1    Cancun     4.8   (60,994)      Outdoors  \n",
       "2    Cancun     4.8   (24,714)      Outdoors  \n",
       "3    Cancun     4.5      (383)      Outdoors  \n",
       "4    Cancun     4.7    (2,357)      Outdoors  \n",
       "..      ...     ...        ...           ...  \n",
       "143  Cancun     4.5      (293)  Kid-friendly  \n",
       "144  Cancun     5.0        (1)  Kid-friendly  \n",
       "145  Cancun     4.7      (575)  Kid-friendly  \n",
       "146  Cancun     4.6       (89)  Kid-friendly  \n",
       "147  Cancun     3.9      (279)  Kid-friendly  \n",
       "\n",
       "[148 rows x 6 columns]"
      ]
     },
     "execution_count": 3,
     "metadata": {},
     "output_type": "execute_result"
    }
   ],
   "source": [
    "df"
   ]
  },
  {
   "cell_type": "code",
   "execution_count": null,
   "metadata": {},
   "outputs": [],
   "source": [
    "test = df.groupby(\"Attractions\")['Genres'].apply(lambda genres_cats: '|'.join(genres_cats)).to_frame()"
   ]
  },
  {
   "cell_type": "code",
   "execution_count": null,
   "metadata": {},
   "outputs": [],
   "source": [
    "del df['Genres']"
   ]
  },
  {
   "cell_type": "code",
   "execution_count": null,
   "metadata": {},
   "outputs": [],
   "source": [
    "df = df.drop_duplicates()"
   ]
  },
  {
   "cell_type": "code",
   "execution_count": null,
   "metadata": {},
   "outputs": [],
   "source": [
    "final_df =pd.merge(test,df, how = \"left\", on = 'Attractions')"
   ]
  },
  {
   "cell_type": "code",
   "execution_count": null,
   "metadata": {
    "scrolled": true
   },
   "outputs": [],
   "source": [
    "final_df1 = final_df.drop_duplicates(subset = 'Attractions', keep = 'first').reset_index(drop = True)"
   ]
  },
  {
   "cell_type": "code",
   "execution_count": null,
   "metadata": {
    "scrolled": false
   },
   "outputs": [],
   "source": [
    "df = final_df1"
   ]
  },
  {
   "cell_type": "markdown",
   "metadata": {},
   "source": [
    "From above, we see that in the 'Reviews' column, there are parentheses. Let's perform regex and remove them so that they are more readable."
   ]
  },
  {
   "cell_type": "code",
   "execution_count": null,
   "metadata": {
    "scrolled": true
   },
   "outputs": [],
   "source": [
    "# Convert using map and lambda if possible\n",
    "import re \n",
    "\n",
    "clear_lst = []\n",
    "\n",
    "for i in range(len(df)):\n",
    "    if df.Reviews[i] == 'N/A':\n",
    "        clear_lst.append('N/A')\n",
    "    else:\n",
    "        result = re.search(r'\\((.*?)\\)',df['Reviews'][i]).group(1)\n",
    "        clear_lst.append(result)\n",
    "        \n",
    "df.Reviews = clear_lst"
   ]
  },
  {
   "cell_type": "code",
   "execution_count": null,
   "metadata": {
    "scrolled": false
   },
   "outputs": [],
   "source": [
    "df.head()"
   ]
  },
  {
   "cell_type": "markdown",
   "metadata": {},
   "source": [
    "Geocoding: get the coordinates of each location"
   ]
  },
  {
   "cell_type": "code",
   "execution_count": null,
   "metadata": {},
   "outputs": [],
   "source": [
    "list_of_lat, list_of_lon, list_of_addr  = [], [], []\n",
    "\n",
    "gmaps = googlemaps.Client(key=config.api_key) \n",
    "\n",
    "def geocode_address(attraction, city):\n",
    "    try:\n",
    "        query = attraction + city\n",
    "        geocode_result = gmaps.geocode(query)\n",
    "        \n",
    "        geom = geocode_result[0]\n",
    "        lat = geom[\"geometry\"][\"location\"][\"lat\"]\n",
    "        lon = geom[\"geometry\"][\"location\"][\"lng\"]\n",
    "        addr = geom['formatted_address']\n",
    "\n",
    "        list_of_lat.append(lat)\n",
    "        list_of_lon.append(lon)\n",
    "        list_of_addr.append(addr)\n",
    "    \n",
    "    except:\n",
    "        list_of_lat.append('NA')\n",
    "        list_of_lon.append('NA')\n",
    "        list_of_addr.append('NA')\n",
    "\n",
    "for attraction, city in zip(df.Attractions, df.City):\n",
    "    geocode_address(attraction,city)"
   ]
  },
  {
   "cell_type": "code",
   "execution_count": null,
   "metadata": {},
   "outputs": [],
   "source": [
    "df['Latitude'] = list_of_lat\n",
    "df['Longitude'] = list_of_lon\n",
    "df['Address'] = list_of_addr"
   ]
  },
  {
   "cell_type": "code",
   "execution_count": null,
   "metadata": {
    "scrolled": true
   },
   "outputs": [],
   "source": [
    "df.head()"
   ]
  },
  {
   "cell_type": "code",
   "execution_count": null,
   "metadata": {},
   "outputs": [],
   "source": [
    "df = df[df.Latitude != 'NA']"
   ]
  },
  {
   "cell_type": "markdown",
   "metadata": {},
   "source": [
    "Let's try to pick a couple random choices "
   ]
  },
  {
   "cell_type": "code",
   "execution_count": null,
   "metadata": {
    "scrolled": false
   },
   "outputs": [],
   "source": [
    "sample_df = df.sample(n = 20)\n",
    "sample_df.Attractions"
   ]
  },
  {
   "cell_type": "code",
   "execution_count": null,
   "metadata": {},
   "outputs": [],
   "source": [
    "sample_df = sample_df.reset_index(drop = True)"
   ]
  },
  {
   "cell_type": "markdown",
   "metadata": {},
   "source": [
    "Round the decimals to 4 digits for Latitude and Longitude"
   ]
  },
  {
   "cell_type": "code",
   "execution_count": null,
   "metadata": {},
   "outputs": [],
   "source": [
    "sample_df['Latitude'] = sample_df['Latitude'].apply(lambda x: round(x, 4))\n",
    "sample_df['Longitude'] = sample_df['Longitude'].apply(lambda x: round(x, 4))"
   ]
  },
  {
   "cell_type": "markdown",
   "metadata": {},
   "source": [
    "Let's first plot the locations and see their locations"
   ]
  },
  {
   "cell_type": "code",
   "execution_count": null,
   "metadata": {},
   "outputs": [],
   "source": [
    "fig = plt.figure(figsize=(16,8))\n",
    "cmap = plt.cm.rainbow\n",
    "norm = matplotlib.colors.BoundaryNorm(np.arange(0,10,1), cmap.N)\n",
    "plt.scatter(sample_df['Longitude'], sample_df['Latitude'],\n",
    "            cmap=cmap, norm=norm, s=150, edgecolor='none')\n",
    "plt.xlabel('Latitude', fontsize=18)\n",
    "plt.ylabel('Longitude', fontsize=18)\n",
    "plt.grid()\n",
    "plt.show()\n"
   ]
  },
  {
   "cell_type": "markdown",
   "metadata": {},
   "source": [
    "**Creating clusters**"
   ]
  },
  {
   "cell_type": "code",
   "execution_count": null,
   "metadata": {},
   "outputs": [],
   "source": [
    "from sklearn.cluster import KMeans"
   ]
  },
  {
   "cell_type": "code",
   "execution_count": null,
   "metadata": {},
   "outputs": [],
   "source": [
    "# Creating an instance of KMeans to find 10 clusters\n",
    "kmeans_1 = KMeans(n_clusters=10)\n",
    "# Using fit_predict to cluster the dataset\n",
    "X = sample_df[['Longitude','Latitude']].values\n",
    "predictions = kmeans_1.fit_predict(X)"
   ]
  },
  {
   "cell_type": "code",
   "execution_count": null,
   "metadata": {},
   "outputs": [],
   "source": [
    "clustered = pd.concat([sample_df.reset_index(), \n",
    "                       pd.DataFrame({'Cluster':predictions})], \n",
    "                      axis=1)\n",
    "clustered.drop('index', axis = 1, inplace = True)"
   ]
  },
  {
   "cell_type": "code",
   "execution_count": null,
   "metadata": {},
   "outputs": [],
   "source": [
    "conditions = [\n",
    "    clustered['Cluster'] == 0, \n",
    "    clustered['Cluster'] == 1,\n",
    "    clustered['Cluster'] == 2,\n",
    "    clustered['Cluster'] == 3,\n",
    "    clustered['Cluster'] == 4,\n",
    "    clustered['Cluster'] == 5,\n",
    "    clustered['Cluster'] == 6,\n",
    "    clustered['Cluster'] == 7,\n",
    "    clustered['Cluster'] == 8,\n",
    "    clustered['Cluster'] == 9 ]\n",
    "choices = ['Monday', 'Tuesday', 'Wednesday', 'Thursday', 'Friday','Saturday', \n",
    "           'Sunday', 'Monday', 'Tuesday', 'Wednesday' ]\n",
    "clustered['Vacation Day'] = np.select(conditions, choices, default='black')"
   ]
  },
  {
   "cell_type": "code",
   "execution_count": null,
   "metadata": {},
   "outputs": [],
   "source": [
    "clustered.sort_values(by = 'Cluster')"
   ]
  },
  {
   "cell_type": "code",
   "execution_count": null,
   "metadata": {
    "scrolled": true
   },
   "outputs": [],
   "source": [
    "fig = plt.figure(figsize=(16,8))\n",
    "cmap=plt.cm.rainbow\n",
    "norm = matplotlib.colors.BoundaryNorm(np.arange(0,10,1), cmap.N)\n",
    "plt.scatter(clustered['Longitude'], clustered['Latitude'], c=clustered['Cluster'],\n",
    "            cmap=cmap, norm=norm, s=150, edgecolor='none')\n",
    "plt.colorbar(ticks=np.linspace(0,9,10))\n",
    "centers = kmeans_1.cluster_centers_\n",
    "plt.scatter(centers[:, 0], centers[:, 1], c='black', s=100, alpha=0.3);\n",
    "#plt.xlim(2.28, 2.375)\n",
    "#plt.ylim(48.84, 48.89)\n",
    "plt.xlabel('Latitude', fontsize=14)\n",
    "plt.ylabel('Longitude', fontsize=14)\n",
    "plt.title('k-means clustering results (n_clusters=10)', fontsize=14)\n",
    "plt.grid()\n",
    "plt.show()"
   ]
  },
  {
   "cell_type": "code",
   "execution_count": null,
   "metadata": {},
   "outputs": [],
   "source": [
    "import hdbscan"
   ]
  },
  {
   "cell_type": "code",
   "execution_count": null,
   "metadata": {},
   "outputs": [],
   "source": [
    "rads = np.radians(X)\n",
    "clusterer = hdbscan.HDBSCAN(min_cluster_size=2, metric='haversine')\n",
    "predictions = clusterer.fit_predict(rads)"
   ]
  },
  {
   "cell_type": "code",
   "execution_count": null,
   "metadata": {},
   "outputs": [],
   "source": [
    "clustered = pd.concat([sample_df.reset_index(),\n",
    "                       pd.DataFrame({'Cluster':predictions})],\n",
    "                     axis = 1)\n",
    "clustered.drop('index', axis = 1, inplace = True)\n",
    "\n",
    "conditions = [\n",
    "    clustered['Cluster'] == -1, \n",
    "    clustered['Cluster'] == 0,\n",
    "    clustered['Cluster'] == 1,\n",
    "    clustered['Cluster'] == 2,\n",
    "    clustered['Cluster'] == 3,\n",
    "    clustered['Cluster'] == 4,\n",
    "    clustered['Cluster'] == 5,\n",
    "    clustered['Cluster'] == 6,\n",
    "    clustered['Cluster'] == 7,\n",
    "    clustered['Cluster'] == 8 ]\n",
    "choices = ['NA/Noise', 'Monday', 'Tuesday', 'Wednesday', 'Thursday', \n",
    "           'Friday','Saturday', 'Sunday', 'Monday', 'Tuesday' ]\n",
    "clustered['Vacation Day'] = np.select(conditions, choices, default='black')\n",
    "clustered.sort_values(by=['Cluster'])"
   ]
  },
  {
   "cell_type": "code",
   "execution_count": null,
   "metadata": {},
   "outputs": [],
   "source": [
    "fig = plt.figure(figsize=(16,8))\n",
    "cmap=plt.cm.gnuplot2\n",
    "#norm = matplotlib.colors.BoundaryNorm(np.arange(0,10,1), cmap.N)\n",
    "plt.scatter(clustered['Longitude'], clustered['Latitude'], c=clustered['Cluster'],\n",
    "            cmap=cmap, s=100, edgecolor='none')\n",
    "plt.colorbar(ticks=[-1,0,1,2,3,4,5,6,7,8])\n",
    "centers = kmeans_1.cluster_centers_\n",
    "plt.scatter(centers[:, 0], centers[:, 1], c='black', s=100, alpha=0.3);\n",
    "#plt.xlim(2.28, 2.375)\n",
    "#plt.ylim(48.84, 48.89)\n",
    "plt.xlabel('Latitude', fontsize=14)\n",
    "plt.ylabel('Longitude', fontsize=14)\n",
    "plt.title('HDBSCAN clustering results', fontsize=14)\n",
    "plt.grid()\n",
    "plt.show()"
   ]
  },
  {
   "cell_type": "markdown",
   "metadata": {},
   "source": [
    "Although HDBSCAN is a great density based spatial clustering algorithm, the cons to it is that some locations will not be located because they are deemed \"noise.\" \n",
    "\n",
    "There may be some attractions that may be out of the way and not in normal common areas. These attractions may be ones that one would want to visit, so using hdbscan may not be the best ideal algorithm to use.\n",
    "\n",
    "To tackle this problem, we should use spatial data clustering with DBSCAN\n"
   ]
  },
  {
   "cell_type": "code",
   "execution_count": null,
   "metadata": {},
   "outputs": [],
   "source": [
    "from sklearn.cluster import DBSCAN"
   ]
  },
  {
   "cell_type": "code",
   "execution_count": null,
   "metadata": {},
   "outputs": [],
   "source": [
    "cols = ['Latitude','Longitude']\n",
    "coords = sample_df.as_matrix(columns = cols)\n"
   ]
  },
  {
   "cell_type": "code",
   "execution_count": null,
   "metadata": {},
   "outputs": [],
   "source": [
    "kms_per_radian = 6371.0088\n",
    "epsilon = 5/ kms_per_radian\n",
    "db = DBSCAN(eps = epsilon, min_samples = 1, algorithm = 'ball_tree', metric = 'haversine').fit(np.radians(coords))"
   ]
  },
  {
   "cell_type": "code",
   "execution_count": null,
   "metadata": {},
   "outputs": [],
   "source": [
    "core_samples_mask = np.zeros_like(db.labels_, dtype = bool)\n",
    "core_samples_mask[db.core_sample_indices_] = True\n",
    "labels = db.labels_"
   ]
  },
  {
   "cell_type": "code",
   "execution_count": null,
   "metadata": {},
   "outputs": [],
   "source": [
    "n_clusters_ = len(set(labels)) - (1 if -1 in labels else 0)\n"
   ]
  },
  {
   "cell_type": "code",
   "execution_count": null,
   "metadata": {},
   "outputs": [],
   "source": [
    "print('Estimated number of clusters: %d' % n_clusters_)"
   ]
  },
  {
   "cell_type": "code",
   "execution_count": null,
   "metadata": {},
   "outputs": [],
   "source": [
    "unique_labels = set(labels)\n",
    "colors = [plt.cm.Spectral(each)\n",
    "          for each in np.linspace(0, 1, len(unique_labels))]\n",
    "for k, col in zip(unique_labels, colors):\n",
    "    if k == -1:\n",
    "        # Black used for noise.\n",
    "        col = [0, 0, 0, 1]\n",
    "\n",
    "    class_member_mask = (labels == k)\n",
    "\n",
    "    xy = X[class_member_mask & core_samples_mask]\n",
    "    plt.plot(xy[:, 0], xy[:, 1], 'o', markerfacecolor=tuple(col),\n",
    "             markeredgecolor='k', markersize=14)\n",
    "\n",
    "    xy = X[class_member_mask & ~core_samples_mask]\n",
    "    plt.plot(xy[:, 0], xy[:, 1], 'o', markerfacecolor=tuple(col),\n",
    "             markeredgecolor='k', markersize=6)\n",
    "plt.title('Estimated number of clusters: %d' % n_clusters_)\n",
    "plt.show()"
   ]
  },
  {
   "cell_type": "code",
   "execution_count": null,
   "metadata": {},
   "outputs": [],
   "source": []
  }
 ],
 "metadata": {
  "kernelspec": {
   "display_name": "Python 3",
   "language": "python",
   "name": "python3"
  },
  "language_info": {
   "codemirror_mode": {
    "name": "ipython",
    "version": 3
   },
   "file_extension": ".py",
   "mimetype": "text/x-python",
   "name": "python",
   "nbconvert_exporter": "python",
   "pygments_lexer": "ipython3",
   "version": "3.7.4"
  }
 },
 "nbformat": 4,
 "nbformat_minor": 2
}
