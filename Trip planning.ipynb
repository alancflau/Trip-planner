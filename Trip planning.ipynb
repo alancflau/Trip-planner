{
 "cells": [
  {
   "cell_type": "code",
   "execution_count": 4,
   "metadata": {},
   "outputs": [],
   "source": [
    "import requests\n",
    "import bs4\n",
    "import re\n",
    "\n",
    "import pandas as pd"
   ]
  },
  {
   "cell_type": "code",
   "execution_count": 5,
   "metadata": {},
   "outputs": [],
   "source": [
    "# This will search on google for keywords and gives urls back\n",
    "from googlesearch import search\n",
    "\n",
    "city = \"Montreal\"\n",
    "text_search = city +'attractions planetware'\n",
    "\n",
    "links = []\n",
    "def get_url(text = text_search):\n",
    "    text1 = \"tourist-attractions-/\"\n",
    "    text2 = city.lower()\n",
    "    text3 = \"planetware\"\n",
    "    for url in search(text_search, stop=10):\n",
    "        links.append(url)\n",
    "    for link in links:\n",
    "        if text1 and text2 and text3 in link:\n",
    "            return(link)\n",
    "\n",
    "# TODO\n",
    "# Moscow does not have an article yet it links to cz"
   ]
  },
  {
   "cell_type": "code",
   "execution_count": 6,
   "metadata": {},
   "outputs": [
    {
     "data": {
      "text/plain": [
       "'https://www.planetware.com/tourist-attractions-/montreal-cdn-qu-qum.htm'"
      ]
     },
     "execution_count": 6,
     "metadata": {},
     "output_type": "execute_result"
    }
   ],
   "source": [
    "# Gets the link\n",
    "get_url()"
   ]
  },
  {
   "cell_type": "code",
   "execution_count": 7,
   "metadata": {},
   "outputs": [],
   "source": [
    "# Save the link as a variable\n",
    "url = get_url()\n",
    "\n",
    "def get_http(url = url):\n",
    "    res = requests.get(url)\n",
    "    soup = bs4.BeautifulSoup(res.text,'lxml')\n",
    "    attractions = soup.select('h2')\n",
    "    \n",
    "    att = [attraction.text for attraction in attractions]\n",
    "    \n",
    "    att_list = []\n",
    "    \n",
    "    # Remove the numbers and space in front of the text and save it in a list\n",
    "    for attraction in att:\n",
    "        #Need to fix, beginning missing number\n",
    "        a = attraction.lstrip('0123456789.- ')\n",
    "        att_list.append(a)\n",
    "        #print(a)\n",
    "    return att_list"
   ]
  },
  {
   "cell_type": "code",
   "execution_count": 8,
   "metadata": {},
   "outputs": [
    {
     "data": {
      "text/plain": [
       "['Mont-Royal',\n",
       " 'Vieux-Montreal (Old Montreal)',\n",
       " 'Jardin Botanique (Botanical Garden)',\n",
       " 'Notre-Dame Basilica',\n",
       " \"Oratoire Saint-Joseph (St. Joseph's Oratory)\",\n",
       " 'Parc Jean Drapeau',\n",
       " 'Musée des Beaux Arts (Fine Arts Museum)',\n",
       " 'Pointe-à-Callière',\n",
       " 'Place des Arts',\n",
       " 'Atwater and Jean Talon Markets',\n",
       " 'St. Mary Queen of the World',\n",
       " 'McCord Museum',\n",
       " 'Square Saint-Louis and Rue Denis',\n",
       " 'Lachine Canal National Historic Site',\n",
       " 'Chinatown',\n",
       " 'Where to Stay in Montreal for Sightseeing',\n",
       " 'Tips and Tours: How to Make the Most of Your Visit to Montreal',\n",
       " 'More on Canada']"
      ]
     },
     "execution_count": 8,
     "metadata": {},
     "output_type": "execute_result"
    }
   ],
   "source": [
    "# Gets the attractions for certain city\n",
    "att_list = get_http()\n",
    "att_list"
   ]
  },
  {
   "cell_type": "markdown",
   "metadata": {},
   "source": [
    "The output of the function above shows that the last three elements in the list are irrelevant therefore we need to remove them."
   ]
  },
  {
   "cell_type": "code",
   "execution_count": 9,
   "metadata": {},
   "outputs": [],
   "source": [
    "# Based on research we know that the element containing 'Where to' and onwards so we can delete but first \n",
    "# need to find the index location of it\n",
    "\n",
    "# Locate the index with the word \"Where to\"\n",
    "index_of_sub = [i for i, s in enumerate(att_list) if 'Where to' in s]\n",
    "index_of_sub = index_of_sub[0]"
   ]
  },
  {
   "cell_type": "code",
   "execution_count": 10,
   "metadata": {},
   "outputs": [],
   "source": [
    "del att_list[index_of_sub: ]"
   ]
  },
  {
   "cell_type": "code",
   "execution_count": 11,
   "metadata": {},
   "outputs": [
    {
     "data": {
      "text/plain": [
       "['Mont-Royal',\n",
       " 'Vieux-Montreal (Old Montreal)',\n",
       " 'Jardin Botanique (Botanical Garden)',\n",
       " 'Notre-Dame Basilica',\n",
       " \"Oratoire Saint-Joseph (St. Joseph's Oratory)\",\n",
       " 'Parc Jean Drapeau',\n",
       " 'Musée des Beaux Arts (Fine Arts Museum)',\n",
       " 'Pointe-à-Callière',\n",
       " 'Place des Arts',\n",
       " 'Atwater and Jean Talon Markets',\n",
       " 'St. Mary Queen of the World',\n",
       " 'McCord Museum',\n",
       " 'Square Saint-Louis and Rue Denis',\n",
       " 'Lachine Canal National Historic Site',\n",
       " 'Chinatown']"
      ]
     },
     "execution_count": 11,
     "metadata": {},
     "output_type": "execute_result"
    }
   ],
   "source": [
    "att_list"
   ]
  },
  {
   "cell_type": "code",
   "execution_count": 12,
   "metadata": {},
   "outputs": [],
   "source": [
    "#df = pd.DataFrame(columns = [\"Attraction\"])\n",
    "\n",
    "def to_df(list = att_list):\n",
    "    df = pd.DataFrame()\n",
    "    df['Attractions'] = att_list\n",
    "    return df"
   ]
  },
  {
   "cell_type": "code",
   "execution_count": 13,
   "metadata": {},
   "outputs": [
    {
     "data": {
      "text/html": [
       "<div>\n",
       "<style scoped>\n",
       "    .dataframe tbody tr th:only-of-type {\n",
       "        vertical-align: middle;\n",
       "    }\n",
       "\n",
       "    .dataframe tbody tr th {\n",
       "        vertical-align: top;\n",
       "    }\n",
       "\n",
       "    .dataframe thead th {\n",
       "        text-align: right;\n",
       "    }\n",
       "</style>\n",
       "<table border=\"1\" class=\"dataframe\">\n",
       "  <thead>\n",
       "    <tr style=\"text-align: right;\">\n",
       "      <th></th>\n",
       "      <th>Attractions</th>\n",
       "    </tr>\n",
       "  </thead>\n",
       "  <tbody>\n",
       "    <tr>\n",
       "      <td>0</td>\n",
       "      <td>Mont-Royal</td>\n",
       "    </tr>\n",
       "    <tr>\n",
       "      <td>1</td>\n",
       "      <td>Vieux-Montreal (Old Montreal)</td>\n",
       "    </tr>\n",
       "    <tr>\n",
       "      <td>2</td>\n",
       "      <td>Jardin Botanique (Botanical Garden)</td>\n",
       "    </tr>\n",
       "    <tr>\n",
       "      <td>3</td>\n",
       "      <td>Notre-Dame Basilica</td>\n",
       "    </tr>\n",
       "    <tr>\n",
       "      <td>4</td>\n",
       "      <td>Oratoire Saint-Joseph (St. Joseph's Oratory)</td>\n",
       "    </tr>\n",
       "    <tr>\n",
       "      <td>5</td>\n",
       "      <td>Parc Jean Drapeau</td>\n",
       "    </tr>\n",
       "    <tr>\n",
       "      <td>6</td>\n",
       "      <td>Musée des Beaux Arts (Fine Arts Museum)</td>\n",
       "    </tr>\n",
       "    <tr>\n",
       "      <td>7</td>\n",
       "      <td>Pointe-à-Callière</td>\n",
       "    </tr>\n",
       "    <tr>\n",
       "      <td>8</td>\n",
       "      <td>Place des Arts</td>\n",
       "    </tr>\n",
       "    <tr>\n",
       "      <td>9</td>\n",
       "      <td>Atwater and Jean Talon Markets</td>\n",
       "    </tr>\n",
       "    <tr>\n",
       "      <td>10</td>\n",
       "      <td>St. Mary Queen of the World</td>\n",
       "    </tr>\n",
       "    <tr>\n",
       "      <td>11</td>\n",
       "      <td>McCord Museum</td>\n",
       "    </tr>\n",
       "    <tr>\n",
       "      <td>12</td>\n",
       "      <td>Square Saint-Louis and Rue Denis</td>\n",
       "    </tr>\n",
       "    <tr>\n",
       "      <td>13</td>\n",
       "      <td>Lachine Canal National Historic Site</td>\n",
       "    </tr>\n",
       "    <tr>\n",
       "      <td>14</td>\n",
       "      <td>Chinatown</td>\n",
       "    </tr>\n",
       "  </tbody>\n",
       "</table>\n",
       "</div>"
      ],
      "text/plain": [
       "                                     Attractions\n",
       "0                                     Mont-Royal\n",
       "1                  Vieux-Montreal (Old Montreal)\n",
       "2            Jardin Botanique (Botanical Garden)\n",
       "3                            Notre-Dame Basilica\n",
       "4   Oratoire Saint-Joseph (St. Joseph's Oratory)\n",
       "5                              Parc Jean Drapeau\n",
       "6        Musée des Beaux Arts (Fine Arts Museum)\n",
       "7                              Pointe-à-Callière\n",
       "8                                 Place des Arts\n",
       "9                 Atwater and Jean Talon Markets\n",
       "10                   St. Mary Queen of the World\n",
       "11                                 McCord Museum\n",
       "12              Square Saint-Louis and Rue Denis\n",
       "13          Lachine Canal National Historic Site\n",
       "14                                     Chinatown"
      ]
     },
     "execution_count": 13,
     "metadata": {},
     "output_type": "execute_result"
    }
   ],
   "source": [
    "df = to_df(att_list)\n",
    "df"
   ]
  },
  {
   "cell_type": "markdown",
   "metadata": {},
   "source": [
    "## Geocoding to get coordinates"
   ]
  },
  {
   "cell_type": "code",
   "execution_count": 17,
   "metadata": {},
   "outputs": [],
   "source": [
    "import googlemaps\n",
    "\n",
    "list_of_lat = []\n",
    "list_of_lon = []\n",
    "\n",
    "city = 'Montreal'\n",
    "country = 'Canada'\n",
    "\n",
    "gmaps = googlemaps.Client(key='INSERT_YOUR_KEY_HERE')\n",
    "\n",
    "def geocode_address(loc):\n",
    "    query = loc + city + country\n",
    "    geocode_result = gmaps.geocode(query)\n",
    "    \n",
    "    \n",
    "    lat = geocode_result[0][\"geometry\"][\"location\"][\"lat\"]\n",
    "    lon = geocode_result[0][\"geometry\"][\"location\"][\"lng\"]\n",
    "    \n",
    "    list_of_lat.append(lat)\n",
    "    list_of_lon.append(lon)\n",
    "    \n",
    "for attraction in df['Attractions']:\n",
    "    geocode_address(attraction)\n",
    "\n",
    "df['Latitude'] = list_of_lat\n",
    "df['Longitude'] = list_of_lon"
   ]
  },
  {
   "cell_type": "code",
   "execution_count": 18,
   "metadata": {},
   "outputs": [
    {
     "data": {
      "text/html": [
       "<div>\n",
       "<style scoped>\n",
       "    .dataframe tbody tr th:only-of-type {\n",
       "        vertical-align: middle;\n",
       "    }\n",
       "\n",
       "    .dataframe tbody tr th {\n",
       "        vertical-align: top;\n",
       "    }\n",
       "\n",
       "    .dataframe thead th {\n",
       "        text-align: right;\n",
       "    }\n",
       "</style>\n",
       "<table border=\"1\" class=\"dataframe\">\n",
       "  <thead>\n",
       "    <tr style=\"text-align: right;\">\n",
       "      <th></th>\n",
       "      <th>Attractions</th>\n",
       "      <th>Latitude</th>\n",
       "      <th>Longitude</th>\n",
       "    </tr>\n",
       "  </thead>\n",
       "  <tbody>\n",
       "    <tr>\n",
       "      <td>0</td>\n",
       "      <td>Mont-Royal</td>\n",
       "      <td>45.507102</td>\n",
       "      <td>-73.587407</td>\n",
       "    </tr>\n",
       "    <tr>\n",
       "      <td>1</td>\n",
       "      <td>Vieux-Montreal (Old Montreal)</td>\n",
       "      <td>45.507453</td>\n",
       "      <td>-73.554418</td>\n",
       "    </tr>\n",
       "    <tr>\n",
       "      <td>2</td>\n",
       "      <td>Jardin Botanique (Botanical Garden)</td>\n",
       "      <td>45.560002</td>\n",
       "      <td>-73.563009</td>\n",
       "    </tr>\n",
       "    <tr>\n",
       "      <td>3</td>\n",
       "      <td>Notre-Dame Basilica</td>\n",
       "      <td>45.504525</td>\n",
       "      <td>-73.556120</td>\n",
       "    </tr>\n",
       "    <tr>\n",
       "      <td>4</td>\n",
       "      <td>Oratoire Saint-Joseph (St. Joseph's Oratory)</td>\n",
       "      <td>45.491912</td>\n",
       "      <td>-73.616467</td>\n",
       "    </tr>\n",
       "    <tr>\n",
       "      <td>5</td>\n",
       "      <td>Parc Jean Drapeau</td>\n",
       "      <td>45.517066</td>\n",
       "      <td>-73.533580</td>\n",
       "    </tr>\n",
       "    <tr>\n",
       "      <td>6</td>\n",
       "      <td>Musée des Beaux Arts (Fine Arts Museum)</td>\n",
       "      <td>45.498522</td>\n",
       "      <td>-73.579400</td>\n",
       "    </tr>\n",
       "    <tr>\n",
       "      <td>7</td>\n",
       "      <td>Pointe-à-Callière</td>\n",
       "      <td>45.502651</td>\n",
       "      <td>-73.554167</td>\n",
       "    </tr>\n",
       "    <tr>\n",
       "      <td>8</td>\n",
       "      <td>Place des Arts</td>\n",
       "      <td>45.508320</td>\n",
       "      <td>-73.566431</td>\n",
       "    </tr>\n",
       "    <tr>\n",
       "      <td>9</td>\n",
       "      <td>Atwater and Jean Talon Markets</td>\n",
       "      <td>45.479457</td>\n",
       "      <td>-73.576451</td>\n",
       "    </tr>\n",
       "    <tr>\n",
       "      <td>10</td>\n",
       "      <td>St. Mary Queen of the World</td>\n",
       "      <td>45.499210</td>\n",
       "      <td>-73.568231</td>\n",
       "    </tr>\n",
       "    <tr>\n",
       "      <td>11</td>\n",
       "      <td>McCord Museum</td>\n",
       "      <td>45.504298</td>\n",
       "      <td>-73.573407</td>\n",
       "    </tr>\n",
       "    <tr>\n",
       "      <td>12</td>\n",
       "      <td>Square Saint-Louis and Rue Denis</td>\n",
       "      <td>45.517990</td>\n",
       "      <td>-73.569671</td>\n",
       "    </tr>\n",
       "    <tr>\n",
       "      <td>13</td>\n",
       "      <td>Lachine Canal National Historic Site</td>\n",
       "      <td>45.431017</td>\n",
       "      <td>-73.670351</td>\n",
       "    </tr>\n",
       "    <tr>\n",
       "      <td>14</td>\n",
       "      <td>Chinatown</td>\n",
       "      <td>45.507693</td>\n",
       "      <td>-73.560141</td>\n",
       "    </tr>\n",
       "  </tbody>\n",
       "</table>\n",
       "</div>"
      ],
      "text/plain": [
       "                                     Attractions   Latitude  Longitude\n",
       "0                                     Mont-Royal  45.507102 -73.587407\n",
       "1                  Vieux-Montreal (Old Montreal)  45.507453 -73.554418\n",
       "2            Jardin Botanique (Botanical Garden)  45.560002 -73.563009\n",
       "3                            Notre-Dame Basilica  45.504525 -73.556120\n",
       "4   Oratoire Saint-Joseph (St. Joseph's Oratory)  45.491912 -73.616467\n",
       "5                              Parc Jean Drapeau  45.517066 -73.533580\n",
       "6        Musée des Beaux Arts (Fine Arts Museum)  45.498522 -73.579400\n",
       "7                              Pointe-à-Callière  45.502651 -73.554167\n",
       "8                                 Place des Arts  45.508320 -73.566431\n",
       "9                 Atwater and Jean Talon Markets  45.479457 -73.576451\n",
       "10                   St. Mary Queen of the World  45.499210 -73.568231\n",
       "11                                 McCord Museum  45.504298 -73.573407\n",
       "12              Square Saint-Louis and Rue Denis  45.517990 -73.569671\n",
       "13          Lachine Canal National Historic Site  45.431017 -73.670351\n",
       "14                                     Chinatown  45.507693 -73.560141"
      ]
     },
     "execution_count": 18,
     "metadata": {},
     "output_type": "execute_result"
    }
   ],
   "source": [
    "df"
   ]
  },
  {
   "cell_type": "code",
   "execution_count": null,
   "metadata": {},
   "outputs": [],
   "source": []
  }
 ],
 "metadata": {
  "kernelspec": {
   "display_name": "Python 3",
   "language": "python",
   "name": "python3"
  },
  "language_info": {
   "codemirror_mode": {
    "name": "ipython",
    "version": 3
   },
   "file_extension": ".py",
   "mimetype": "text/x-python",
   "name": "python",
   "nbconvert_exporter": "python",
   "pygments_lexer": "ipython3",
   "version": "3.7.4"
  }
 },
 "nbformat": 4,
 "nbformat_minor": 2
}
